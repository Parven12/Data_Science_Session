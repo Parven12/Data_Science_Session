{
 "cells": [
  {
   "cell_type": "code",
   "execution_count": 2,
   "id": "316dfc2b-8f50-4aec-8e8d-150a6a4618a6",
   "metadata": {},
   "outputs": [
    {
     "name": "stdin",
     "output_type": "stream",
     "text": [
      "Enter First Number 3\n",
      "Enter Second Number 1\n"
     ]
    },
    {
     "name": "stdout",
     "output_type": "stream",
     "text": [
      "\n",
      "Enter Operation 1 for Addition.\n",
      "Enter Operation 2 for Subtraction.\n",
      "Enter Operation 3 for Multiplication.\n",
      "Enter Operation 4 for Division.\n",
      "\n"
     ]
    },
    {
     "name": "stdin",
     "output_type": "stream",
     "text": [
      "Enter the operation between 1 to 4: 2\n"
     ]
    },
    {
     "name": "stdout",
     "output_type": "stream",
     "text": [
      "Subtraction of 3 and 1 is: 2\n"
     ]
    }
   ],
   "source": [
    "num1 = eval(input(\"Enter First Number\"))\n",
    "num2 = eval(input(\"Enter Second Number\"))\n",
    "print('''\n",
    "Enter Operation 1 for Addition.\n",
    "Enter Operation 2 for Subtraction.\n",
    "Enter Operation 3 for Multiplication.\n",
    "Enter Operation 4 for Division.\n",
    "''')\n",
    "\n",
    "opr = eval(input(\"Enter the operation between 1 to 4:\"))\n",
    "if opr == 1:\n",
    "    sum = num1 + num2\n",
    "    print(f\"Addition of {num1} and {num2} is: {sum}\")\n",
    "elif opr == 2 :\n",
    "    sub = num1 - num2\n",
    "    print(f\"Subtraction of {num1} and {num2} is: {sub}\")\n",
    "elif opr == 3 :\n",
    "    Mul = num1 * num2\n",
    "    print(f\"Multiplication of {num1} and {num2} is: {Mul}\")\n",
    "elif opr == 4 :\n",
    "    Div = num1 /num2\n",
    "    print(f\"Division of {num1} and {num2} is: {Div}\") \n",
    "else :\n",
    "    print(\"Enter a valid number\")"
   ]
  },
  {
   "cell_type": "code",
   "execution_count": 4,
   "id": "0a463030-10d7-4af4-b8c2-4302a3ebe749",
   "metadata": {},
   "outputs": [
    {
     "name": "stdin",
     "output_type": "stream",
     "text": [
      "Enter the Gender Male\n",
      "enter the age 30\n"
     ]
    },
    {
     "name": "stdout",
     "output_type": "stream",
     "text": [
      "middle Man\n"
     ]
    }
   ],
   "source": [
    "gender = input(\"Enter the Gender\")\n",
    "if gender == 'Male':\n",
    "   age = eval(input(\"enter the age\"))\n",
    "   if age >=  60:\n",
    "       print(\"senior Man\")\n",
    "   elif age >= 30 :\n",
    "       print(\"middle Man\")\n",
    "   elif age >= 15 :\n",
    "       print(\"young Man\")\n",
    "   else:\n",
    "       print(\"Boy\")\n",
    "elif gender == 'Female' :\n",
    "    if age >=  60:\n",
    "       print(\"senior Woman\")\n",
    "    elif age >= 30 :\n",
    "        print(\"middle Woman\")\n",
    "    elif age >= 15 :\n",
    "        print(\"young Woman\")\n",
    "    else:\n",
    "        print(\"Girl\")\n",
    "else :\n",
    "    print(\"Enter Valid Gender\")"
   ]
  },
  {
   "cell_type": "code",
   "execution_count": 6,
   "id": "4b20efcc-5683-4a02-84d5-f9a2b26c5e23",
   "metadata": {},
   "outputs": [
    {
     "name": "stdin",
     "output_type": "stream",
     "text": [
      "enter the number 0\n"
     ]
    },
    {
     "name": "stdout",
     "output_type": "stream",
     "text": [
      "zero 0\n"
     ]
    }
   ],
   "source": [
    "number = eval(input(\"enter the number\"))\n",
    "if number >= 0:\n",
    "    if number >0 :\n",
    "        print(\"positive\",number)\n",
    "    else :\n",
    "        print(\"zero\",number)\n",
    "else:\n",
    "    print(\"negative\",number)"
   ]
  },
  {
   "cell_type": "code",
   "execution_count": null,
   "id": "85be7d8a-9b24-4100-8998-5670edd19e3b",
   "metadata": {},
   "outputs": [],
   "source": []
  }
 ],
 "metadata": {
  "kernelspec": {
   "display_name": "Python 3 (ipykernel)",
   "language": "python",
   "name": "python3"
  },
  "language_info": {
   "codemirror_mode": {
    "name": "ipython",
    "version": 3
   },
   "file_extension": ".py",
   "mimetype": "text/x-python",
   "name": "python",
   "nbconvert_exporter": "python",
   "pygments_lexer": "ipython3",
   "version": "3.11.7"
  }
 },
 "nbformat": 4,
 "nbformat_minor": 5
}

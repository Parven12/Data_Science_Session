{
 "cells": [
  {
   "cell_type": "code",
   "execution_count": 1,
   "id": "cf490e16-bf54-4c83-9844-e80efeca45a7",
   "metadata": {},
   "outputs": [
    {
     "name": "stdin",
     "output_type": "stream",
     "text": [
      "enter the number1: 100\n",
      "enter the number2: 200\n"
     ]
    },
    {
     "data": {
      "text/plain": [
       "'100200'"
      ]
     },
     "execution_count": 1,
     "metadata": {},
     "output_type": "execute_result"
    }
   ],
   "source": [
    "num1 = input(\"enter the number1:\")\n",
    "num2 = input(\"enter the number2:\")\n",
    "num1+num2"
   ]
  },
  {
   "cell_type": "code",
   "execution_count": 2,
   "id": "cdcd33cc-f563-47ed-b18c-3ae242d9a633",
   "metadata": {},
   "outputs": [
    {
     "name": "stdin",
     "output_type": "stream",
     "text": [
      "enter the number1: 100\n",
      "enter the number2: 200\n"
     ]
    },
    {
     "data": {
      "text/plain": [
       "300"
      ]
     },
     "execution_count": 2,
     "metadata": {},
     "output_type": "execute_result"
    }
   ],
   "source": [
    "num1 = input(\"enter the number1:\")\n",
    "num2 = input(\"enter the number2:\")\n",
    "int(num1)+int(num2)"
   ]
  },
  {
   "cell_type": "code",
   "execution_count": null,
   "id": "272ca1ce-1df0-4818-a89f-9298dcafb5c0",
   "metadata": {},
   "outputs": [],
   "source": []
  }
 ],
 "metadata": {
  "kernelspec": {
   "display_name": "Python 3 (ipykernel)",
   "language": "python",
   "name": "python3"
  },
  "language_info": {
   "codemirror_mode": {
    "name": "ipython",
    "version": 3
   },
   "file_extension": ".py",
   "mimetype": "text/x-python",
   "name": "python",
   "nbconvert_exporter": "python",
   "pygments_lexer": "ipython3",
   "version": "3.11.7"
  }
 },
 "nbformat": 4,
 "nbformat_minor": 5
}

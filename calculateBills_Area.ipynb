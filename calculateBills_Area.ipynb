{
 "cells": [
  {
   "cell_type": "code",
   "execution_count": 3,
   "id": "ebd0d4cd-f177-4215-9a62-d4e6ba4f62c8",
   "metadata": {},
   "outputs": [
    {
     "name": "stdout",
     "output_type": "stream",
     "text": [
      "the area of triangle is 517.5\n"
     ]
    }
   ],
   "source": [
    "base = 23\n",
    "hight = 45\n",
    "area = 0.5*base*hight\n",
    "print(f\"the area of triangle is: {area}\")"
   ]
  },
  {
   "cell_type": "code",
   "execution_count": 4,
   "id": "8371999b-0a10-425f-b495-c62ef6a20601",
   "metadata": {},
   "outputs": [
    {
     "name": "stdout",
     "output_type": "stream",
     "text": [
      "the total bill is : 1100.0\n"
     ]
    }
   ],
   "source": [
    "calculate_bill = 1000\n",
    "tip_percenrtage = 10\n",
    "calculate_tip = 1000*0.1\n",
    "total_bill = calculate_bill + calculate_tip\n",
    "print(f\"the total bill is : {total_bill}\")"
   ]
  },
  {
   "cell_type": "code",
   "execution_count": null,
   "id": "3ca0a4d9-1b1e-4407-a676-391323765207",
   "metadata": {},
   "outputs": [],
   "source": []
  }
 ],
 "metadata": {
  "kernelspec": {
   "display_name": "Python 3 (ipykernel)",
   "language": "python",
   "name": "python3"
  },
  "language_info": {
   "codemirror_mode": {
    "name": "ipython",
    "version": 3
   },
   "file_extension": ".py",
   "mimetype": "text/x-python",
   "name": "python",
   "nbconvert_exporter": "python",
   "pygments_lexer": "ipython3",
   "version": "3.11.7"
  }
 },
 "nbformat": 4,
 "nbformat_minor": 5
}
